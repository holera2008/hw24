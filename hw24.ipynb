{
  "nbformat": 4,
  "nbformat_minor": 0,
  "metadata": {
    "colab": {
      "provenance": [],
      "authorship_tag": "ABX9TyPHRxGwsG8kUShaFSEMuT9i",
      "include_colab_link": true
    },
    "kernelspec": {
      "name": "python3",
      "display_name": "Python 3"
    },
    "language_info": {
      "name": "python"
    }
  },
  "cells": [
    {
      "cell_type": "markdown",
      "metadata": {
        "id": "view-in-github",
        "colab_type": "text"
      },
      "source": [
        "<a href=\"https://colab.research.google.com/github/holera2008/hw24/blob/main/hw24.ipynb\" target=\"_parent\"><img src=\"https://colab.research.google.com/assets/colab-badge.svg\" alt=\"Open In Colab\"/></a>"
      ]
    },
    {
      "cell_type": "code",
      "execution_count": 6,
      "metadata": {
        "colab": {
          "base_uri": "https://localhost:8080/",
          "height": 35
        },
        "id": "GecQ013BPMe4",
        "outputId": "0d528084-67b5-40d3-c747-41b226bf4538"
      },
      "outputs": [
        {
          "output_type": "execute_result",
          "data": {
            "text/plain": [
              "'Meow'"
            ],
            "application/vnd.google.colaboratory.intrinsic+json": {
              "type": "string"
            }
          },
          "metadata": {},
          "execution_count": 6
        }
      ],
      "source": [
        "#task1\n",
        "class Animal:\n",
        "  def __init__(self, nickname, weight):\n",
        "    self.nickname = nickname\n",
        "    self.weight = weight\n",
        "\n",
        "  def say(self):\n",
        "    pass\n",
        "\n",
        "  def change_weight(self, weight):\n",
        "    self.weight = weight\n",
        "\n",
        "class Cat(Animal):\n",
        "  def say(self):\n",
        "    return 'Meow'\n",
        "\n",
        "cat = Cat('Simon', 10)\n",
        "cat.say()"
      ]
    },
    {
      "cell_type": "code",
      "source": [
        "#task2\n",
        "class Animal:\n",
        "  def __init__(self, nickname, weight):\n",
        "    self.nickname = nickname\n",
        "    self.weight = weight\n",
        "\n",
        "  def say(self):\n",
        "    pass\n",
        "\n",
        "  def change_weight(self, weight):\n",
        "    self.weight = weight\n",
        "\n",
        "\n",
        "class Dog():\n",
        "  def __init__(self, nickname, weight, breed):\n",
        "    self.nickname = nickname\n",
        "    self.weight = weight\n",
        "    self.breed = breed\n",
        "  def say(self):\n",
        "    return 'Woof'\n",
        "\n",
        "\n",
        "dog = Dog(\"Barbos\", 23, \"labrador\")\n",
        "print(dog.nickname)\n",
        "print(dog.breed)\n",
        "print(dog.weight)"
      ],
      "metadata": {
        "colab": {
          "base_uri": "https://localhost:8080/"
        },
        "id": "cnTgUyovSqFD",
        "outputId": "1bd5bbaa-2661-4f7b-bee3-5064e52ecd02"
      },
      "execution_count": 12,
      "outputs": [
        {
          "output_type": "stream",
          "name": "stdout",
          "text": [
            "Barbos\n",
            "labrador\n",
            "23\n"
          ]
        }
      ]
    }
  ]
}